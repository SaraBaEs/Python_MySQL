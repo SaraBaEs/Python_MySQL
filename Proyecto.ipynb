{
 "cells": [
  {
   "cell_type": "code",
   "execution_count": 1,
   "id": "84b817fc",
   "metadata": {},
   "outputs": [],
   "source": [
    "import pandas as pd\n",
    "import sqlite3\n"
   ]
  },
  {
   "cell_type": "code",
   "execution_count": 5,
   "id": "3f7e957b",
   "metadata": {},
   "outputs": [],
   "source": [
    "# Cargar datos desde un archivo CSV\n",
    "data = pd.read_csv('ejecucion-presupuestaria_nivel-partida_a-octubre-2023.csv', sep=';')\n"
   ]
  },
  {
   "cell_type": "code",
   "execution_count": 12,
   "id": "0c609278",
   "metadata": {},
   "outputs": [
    {
     "name": "stdout",
     "output_type": "stream",
     "text": [
      "DataFrame resultante     Partida                  Nombre Subtítulo  \\\n",
      "3        6                GASTOS EN PERSONAL   \n",
      "4        6     BIENES Y SERVICIOS DE CONSUMO   \n",
      "5        6  PRESTACIONES DE SEGURIDAD SOCIAL   \n",
      "6        6         TRANSFERENCIAS CORRIENTES   \n",
      "7        6           OTROS GASTOS CORRIENTES   \n",
      "\n",
      "                                       Nueva_Columna  \n",
      "3               GASTOS EN PERSONALGASTOS EN PERSONAL  \n",
      "4  BIENES Y SERVICIOS DE CONSUMOBIENES Y SERVICIO...  \n",
      "5  PRESTACIONES DE SEGURIDAD SOCIALPRESTACIONES D...  \n",
      "6  TRANSFERENCIAS CORRIENTESTRANSFERENCIAS CORRIE...  \n",
      "7     OTROS GASTOS CORRIENTESOTROS GASTOS CORRIENTES  \n",
      "Resultados:       Partida                       Nombre Subtítulo  \\\n",
      "0          6                     GASTOS EN PERSONAL   \n",
      "1          6          BIENES Y SERVICIOS DE CONSUMO   \n",
      "2          6       PRESTACIONES DE SEGURIDAD SOCIAL   \n",
      "3          6              TRANSFERENCIAS CORRIENTES   \n",
      "4          6                OTROS GASTOS CORRIENTES   \n",
      "..       ...                                    ...   \n",
      "287       30  ADQUISICIÓN DE ACTIVOS NO FINANCIEROS   \n",
      "288       30              TRANSFERENCIAS DE CAPITAL   \n",
      "289       30                   SERVICIO DE LA DEUDA   \n",
      "290       31              TRANSFERENCIAS CORRIENTES   \n",
      "291       31              TRANSFERENCIAS DE CAPITAL   \n",
      "\n",
      "                                         Nueva_Columna  \n",
      "0                 GASTOS EN PERSONALGASTOS EN PERSONAL  \n",
      "1    BIENES Y SERVICIOS DE CONSUMOBIENES Y SERVICIO...  \n",
      "2    PRESTACIONES DE SEGURIDAD SOCIALPRESTACIONES D...  \n",
      "3    TRANSFERENCIAS CORRIENTESTRANSFERENCIAS CORRIE...  \n",
      "4       OTROS GASTOS CORRIENTESOTROS GASTOS CORRIENTES  \n",
      "..                                                 ...  \n",
      "287  ADQUISICIÓN DE ACTIVOS NO FINANCIEROSADQUISICI...  \n",
      "288  TRANSFERENCIAS DE CAPITALTRANSFERENCIAS DE CAP...  \n",
      "289           SERVICIO DE LA DEUDASERVICIO DE LA DEUDA  \n",
      "290  TRANSFERENCIAS CORRIENTESTRANSFERENCIAS CORRIE...  \n",
      "291  TRANSFERENCIAS DE CAPITALTRANSFERENCIAS DE CAP...  \n",
      "\n",
      "[292 rows x 3 columns]\n"
     ]
    }
   ],
   "source": [
    "# Realizar manipulaciones de datos con Pandas\n",
    "# \n",
    "filtered_data = data[(data['Partida'] < 40) & (data['Subtítulo'] > 15)]\n",
    "selected_columns = filtered_data[['Partida', 'Nombre Subtítulo']]\n",
    "\n",
    "# Ejemplo: Agregar una nueva columna calculada\n",
    "selected_columns = selected_columns.copy() \n",
    "selected_columns.loc[:, 'Nueva_Columna'] = selected_columns['Nombre Subtítulo'] * 2\n",
    "\n",
    "# Imprimir las primeras filas del DataFrame resultante\n",
    "print(\"DataFrame resultante \", selected_columns.head())\n",
    "\n",
    "# Conectar a la base de datos (creará la base de datos si no existe)\n",
    "conn = sqlite3.connect('mi_base_de_datos.db')\n",
    "\n",
    "# Guardar el DataFrame manipulado como una tabla en la base de datos\n",
    "selected_columns.to_sql('mi_tabla', conn, if_exists='replace', index=False)\n",
    "\n",
    "# Ejemplo de consulta SQL con los datos filtrados\n",
    "query = \"SELECT * FROM mi_tabla WHERE Nueva_Columna > 20\"\n",
    "resultado = pd.read_sql_query(query, conn)\n",
    "\n",
    "# Mostrar los resultados de la consulta\n",
    "print(\"Resultados: \", resultado)\n"
   ]
  },
  {
   "cell_type": "code",
   "execution_count": null,
   "id": "d085c7d5",
   "metadata": {},
   "outputs": [],
   "source": []
  }
 ],
 "metadata": {
  "kernelspec": {
   "display_name": "Python 3 (ipykernel)",
   "language": "python",
   "name": "python3"
  },
  "language_info": {
   "codemirror_mode": {
    "name": "ipython",
    "version": 3
   },
   "file_extension": ".py",
   "mimetype": "text/x-python",
   "name": "python",
   "nbconvert_exporter": "python",
   "pygments_lexer": "ipython3",
   "version": "3.10.9"
  }
 },
 "nbformat": 4,
 "nbformat_minor": 5
}
