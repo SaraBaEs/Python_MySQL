{
 "cells": [
  {
   "cell_type": "code",
   "execution_count": 29,
   "id": "15f7ac6f",
   "metadata": {
    "scrolled": false
   },
   "outputs": [
    {
     "name": "stdout",
     "output_type": "stream",
     "text": [
      "Requirement already satisfied: mysql-connector-python in c:\\users\\katy0\\anaconda3\\lib\\site-packages (8.2.0)\n",
      "Requirement already satisfied: protobuf<=4.21.12,>=4.21.1 in c:\\users\\katy0\\anaconda3\\lib\\site-packages (from mysql-connector-python) (4.21.12)\n"
     ]
    }
   ],
   "source": [
    "!pip install mysql-connector-python\n"
   ]
  },
  {
   "cell_type": "code",
   "execution_count": 30,
   "id": "414b8bc2",
   "metadata": {},
   "outputs": [],
   "source": [
    "import mysql.connector\n",
    "import pandas as pd\n",
    "import numpy as np\n",
    "import sqlalchemy as db\n"
   ]
  },
  {
   "cell_type": "code",
   "execution_count": 34,
   "id": "07e1985b",
   "metadata": {},
   "outputs": [
    {
     "name": "stdout",
     "output_type": "stream",
     "text": [
      "<mysql.connector.connection_cext.CMySQLConnection object at 0x000001F885DA9030>\n"
     ]
    }
   ],
   "source": [
    "#Conexion al sistema de dbs\n",
    "db = mysql.connector.connect(\n",
    "    \n",
    "    host='localhost',\n",
    "    user='root',\n",
    "    password=''\n",
    ")\n",
    "\n",
    "#Verificar conexión\n",
    "print(db)"
   ]
  },
  {
   "cell_type": "code",
   "execution_count": 35,
   "id": "a16527d0",
   "metadata": {},
   "outputs": [],
   "source": [
    "# Cargar datos desde un archivo CSV\n",
    "data = pd.read_csv('NFLX.csv', sep=',')\n"
   ]
  },
  {
   "cell_type": "code",
   "execution_count": 36,
   "id": "77f97536",
   "metadata": {},
   "outputs": [
    {
     "data": {
      "text/plain": [
       "(5422, 7)"
      ]
     },
     "execution_count": 36,
     "metadata": {},
     "output_type": "execute_result"
    }
   ],
   "source": [
    "data.shape\n"
   ]
  },
  {
   "cell_type": "code",
   "execution_count": 16,
   "id": "1661931e",
   "metadata": {},
   "outputs": [
    {
     "name": "stdout",
     "output_type": "stream",
     "text": [
      "<class 'pandas.core.frame.DataFrame'>\n",
      "RangeIndex: 5422 entries, 0 to 5421\n",
      "Data columns (total 7 columns):\n",
      " #   Column     Non-Null Count  Dtype  \n",
      "---  ------     --------------  -----  \n",
      " 0   Date       5422 non-null   object \n",
      " 1   Open       5422 non-null   float64\n",
      " 2   High       5422 non-null   float64\n",
      " 3   Low        5422 non-null   float64\n",
      " 4   Close      5422 non-null   float64\n",
      " 5   Adj Close  5422 non-null   float64\n",
      " 6   Volume     5422 non-null   int64  \n",
      "dtypes: float64(5), int64(1), object(1)\n",
      "memory usage: 296.6+ KB\n"
     ]
    }
   ],
   "source": [
    "data.info()"
   ]
  },
  {
   "cell_type": "code",
   "execution_count": 43,
   "id": "49de6ef1",
   "metadata": {},
   "outputs": [
    {
     "data": {
      "text/plain": [
       "5422"
      ]
     },
     "execution_count": 43,
     "metadata": {},
     "output_type": "execute_result"
    }
   ],
   "source": [
    "# Crear una conexión a la base de datos\n",
    "db = mysql.connector.connect(\n",
    "    host='localhost',\n",
    "    user='root',\n",
    "    password='',\n",
    "    database='db_prueba'  \n",
    ")\n",
    "\n",
    "# Crear una tabla en la base de datos si no existe\n",
    "cursor = db.cursor()\n",
    "\n",
    "# Modifica el nombre de la columna \"Open\" a algo no reservado o enciérralo entre comillas/backticks\n",
    "cursor.execute(\"CREATE TABLE IF NOT EXISTS DataSet (Date DATE, `Open` FLOAT, High FLOAT, Low FLOAT, Close FLOAT, Adj FLOAT, Close2 FLOAT, Volume FLOAT)\")\n",
    "db.commit()\n",
    "\n",
    "from sqlalchemy import create_engine\n",
    "\n",
    "# Crea un motor SQLAlchemy a partir de la conexión MySQL\n",
    "engine = create_engine('mysql+mysqlconnector://root:@localhost/db_prueba')\n",
    "\n",
    "\n",
    "# Subir los datos desde el DataFrame a la tabla MySQL\n",
    "data.to_sql('dataset', con=engine, if_exists='replace', index=False)\n"
   ]
  },
  {
   "cell_type": "code",
   "execution_count": null,
   "id": "dc7424ef",
   "metadata": {},
   "outputs": [],
   "source": []
  }
 ],
 "metadata": {
  "kernelspec": {
   "display_name": "Python 3 (ipykernel)",
   "language": "python",
   "name": "python3"
  },
  "language_info": {
   "codemirror_mode": {
    "name": "ipython",
    "version": 3
   },
   "file_extension": ".py",
   "mimetype": "text/x-python",
   "name": "python",
   "nbconvert_exporter": "python",
   "pygments_lexer": "ipython3",
   "version": "3.10.9"
  }
 },
 "nbformat": 4,
 "nbformat_minor": 5
}
